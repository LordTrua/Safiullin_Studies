{
 "cells": [
  {
   "cell_type": "code",
   "execution_count": null,
   "id": "7df35474",
   "metadata": {
    "papermill": {
     "duration": 0.032237,
     "end_time": "2022-04-23T23:02:58.266131",
     "exception": false,
     "start_time": "2022-04-23T23:02:58.233894",
     "status": "completed"
    },
    "tags": []
   },
   "outputs": [],
   "source": []
  },
  {
   "cell_type": "markdown",
   "id": "925066eb",
   "metadata": {
    "papermill": {
     "duration": 0.031103,
     "end_time": "2022-04-23T23:02:58.328472",
     "exception": false,
     "start_time": "2022-04-23T23:02:58.297369",
     "status": "completed"
    },
    "tags": []
   },
   "source": [
    "\n",
    "Задача №2\n",
    "Для заданного набора данных проведите обработку пропусков в данных для одного категориального и одного количественного признака. Какие способы обработки пропусков в данных для категориальных и количественных признаков Вы использовали? Какие признаки Вы будете использовать для дальнейшего построения моделей машинного обучения и почему?\n",
    "Набор Данных: https://www.kaggle.com/san-francisco/sf-restaurant-scores-lives-standard\n",
    "Дополнительные требования по группам:\n",
    "Для студентов группы РТ5-61Б - для пары произвольных колонок данных построить график \"Jointplot\".\n",
    "\n",
    "Категориальный признак — признак, значение которого можно отнести к какой-либо группе, но порядок значений в этой группе абсолютно не важен."
   ]
  },
  {
   "cell_type": "code",
   "execution_count": 1,
   "id": "51171aa8",
   "metadata": {
    "_cell_guid": "b1076dfc-b9ad-4769-8c92-a6c4dae69d19",
    "_uuid": "8f2839f25d086af736a60e9eeb907d3b93b6e0e5",
    "execution": {
     "iopub.execute_input": "2022-04-23T23:02:58.391200Z",
     "iopub.status.busy": "2022-04-23T23:02:58.390769Z",
     "iopub.status.idle": "2022-04-23T23:03:00.185684Z",
     "shell.execute_reply": "2022-04-23T23:03:00.184799Z"
    },
    "papermill": {
     "duration": 1.827507,
     "end_time": "2022-04-23T23:03:00.188086",
     "exception": false,
     "start_time": "2022-04-23T23:02:58.360579",
     "status": "completed"
    },
    "tags": []
   },
   "outputs": [
    {
     "data": {
      "text/plain": [
       "(53973, 23)"
      ]
     },
     "execution_count": 1,
     "metadata": {},
     "output_type": "execute_result"
    }
   ],
   "source": [
    "# This Python 3 environment comes with many helpful analytics libraries installed\n",
    "# It is defined by the kaggle/python Docker image: https://github.com/kaggle/docker-python\n",
    "# For example, here's several helpful packages to load\n",
    "\n",
    "import numpy as np # linear algebra\n",
    "import pandas as pd # data processing, CSV file I/O (e.g. pd.read_csv)\n",
    "import seaborn as sns\n",
    "from sklearn.preprocessing import LabelEncoder, OneHotEncoder\n",
    "from sklearn.preprocessing import MinMaxScaler, StandardScaler, Normalizer\n",
    "from sklearn.impute import SimpleImputer, MissingIndicator\n",
    "import os\n",
    "\n",
    "data = pd.read_csv('/kaggle/input/sf-restaurant-scores-lives-standard/restaurant-scores-lives-standard.csv')\n",
    "data.shape\n"
   ]
  },
  {
   "cell_type": "code",
   "execution_count": 2,
   "id": "b3197c31",
   "metadata": {
    "execution": {
     "iopub.execute_input": "2022-04-23T23:03:00.244814Z",
     "iopub.status.busy": "2022-04-23T23:03:00.244085Z",
     "iopub.status.idle": "2022-04-23T23:03:00.247307Z",
     "shell.execute_reply": "2022-04-23T23:03:00.246741Z"
    },
    "papermill": {
     "duration": 0.033549,
     "end_time": "2022-04-23T23:03:00.249061",
     "exception": false,
     "start_time": "2022-04-23T23:03:00.215512",
     "status": "completed"
    },
    "tags": []
   },
   "outputs": [],
   "source": [
    "#for dirname, _, filenames in os.walk('/kaggle/input'):\n",
    " #   for filename in filenames:\n",
    "  #      print(os.path.join(dirname, filename))"
   ]
  },
  {
   "cell_type": "code",
   "execution_count": 3,
   "id": "15ff7b2a",
   "metadata": {
    "execution": {
     "iopub.execute_input": "2022-04-23T23:03:00.305144Z",
     "iopub.status.busy": "2022-04-23T23:03:00.304625Z",
     "iopub.status.idle": "2022-04-23T23:03:00.314724Z",
     "shell.execute_reply": "2022-04-23T23:03:00.313969Z"
    },
    "papermill": {
     "duration": 0.040514,
     "end_time": "2022-04-23T23:03:00.316670",
     "exception": false,
     "start_time": "2022-04-23T23:03:00.276156",
     "status": "completed"
    },
    "tags": []
   },
   "outputs": [
    {
     "data": {
      "text/plain": [
       "business_id                    int64\n",
       "business_name                 object\n",
       "business_address              object\n",
       "business_city                 object\n",
       "business_state                object\n",
       "business_postal_code          object\n",
       "business_latitude            float64\n",
       "business_longitude           float64\n",
       "business_location             object\n",
       "business_phone_number        float64\n",
       "inspection_id                 object\n",
       "inspection_date               object\n",
       "inspection_score             float64\n",
       "inspection_type               object\n",
       "violation_id                  object\n",
       "violation_description         object\n",
       "risk_category                 object\n",
       "Neighborhoods (old)          float64\n",
       "Police Districts             float64\n",
       "Supervisor Districts         float64\n",
       "Fire Prevention Districts    float64\n",
       "Zip Codes                    float64\n",
       "Analysis Neighborhoods       float64\n",
       "dtype: object"
      ]
     },
     "execution_count": 3,
     "metadata": {},
     "output_type": "execute_result"
    }
   ],
   "source": [
    "data.dtypes"
   ]
  },
  {
   "cell_type": "code",
   "execution_count": 4,
   "id": "b7596e0d",
   "metadata": {
    "execution": {
     "iopub.execute_input": "2022-04-23T23:03:00.373767Z",
     "iopub.status.busy": "2022-04-23T23:03:00.373487Z",
     "iopub.status.idle": "2022-04-23T23:03:00.465317Z",
     "shell.execute_reply": "2022-04-23T23:03:00.463757Z"
    },
    "papermill": {
     "duration": 0.123502,
     "end_time": "2022-04-23T23:03:00.467921",
     "exception": false,
     "start_time": "2022-04-23T23:03:00.344419",
     "status": "completed"
    },
    "tags": []
   },
   "outputs": [
    {
     "name": "stdout",
     "output_type": "stream",
     "text": [
      "<class 'pandas.core.frame.DataFrame'>\n",
      "RangeIndex: 53973 entries, 0 to 53972\n",
      "Data columns (total 23 columns):\n",
      " #   Column                     Non-Null Count  Dtype  \n",
      "---  ------                     --------------  -----  \n",
      " 0   business_id                53973 non-null  int64  \n",
      " 1   business_name              53973 non-null  object \n",
      " 2   business_address           53973 non-null  object \n",
      " 3   business_city              53973 non-null  object \n",
      " 4   business_state             53973 non-null  object \n",
      " 5   business_postal_code       52955 non-null  object \n",
      " 6   business_latitude          34417 non-null  float64\n",
      " 7   business_longitude         34417 non-null  float64\n",
      " 8   business_location          34417 non-null  object \n",
      " 9   business_phone_number      17035 non-null  float64\n",
      " 10  inspection_id              53973 non-null  object \n",
      " 11  inspection_date            53973 non-null  object \n",
      " 12  inspection_score           40363 non-null  float64\n",
      " 13  inspection_type            53973 non-null  object \n",
      " 14  violation_id               41103 non-null  object \n",
      " 15  violation_description      41103 non-null  object \n",
      " 16  risk_category              41103 non-null  object \n",
      " 17  Neighborhoods (old)        34379 non-null  float64\n",
      " 18  Police Districts           34379 non-null  float64\n",
      " 19  Supervisor Districts       34379 non-null  float64\n",
      " 20  Fire Prevention Districts  34327 non-null  float64\n",
      " 21  Zip Codes                  34397 non-null  float64\n",
      " 22  Analysis Neighborhoods     34379 non-null  float64\n",
      "dtypes: float64(10), int64(1), object(12)\n",
      "memory usage: 9.5+ MB\n"
     ]
    }
   ],
   "source": [
    "data.info()"
   ]
  },
  {
   "cell_type": "code",
   "execution_count": 5,
   "id": "cf7a968c",
   "metadata": {
    "execution": {
     "iopub.execute_input": "2022-04-23T23:03:00.528742Z",
     "iopub.status.busy": "2022-04-23T23:03:00.528266Z",
     "iopub.status.idle": "2022-04-23T23:03:00.603473Z",
     "shell.execute_reply": "2022-04-23T23:03:00.602552Z"
    },
    "papermill": {
     "duration": 0.108649,
     "end_time": "2022-04-23T23:03:00.605435",
     "exception": false,
     "start_time": "2022-04-23T23:03:00.496786",
     "status": "completed"
    },
    "tags": []
   },
   "outputs": [
    {
     "data": {
      "text/plain": [
       "business_id                      0\n",
       "business_name                    0\n",
       "business_address                 0\n",
       "business_city                    0\n",
       "business_state                   0\n",
       "business_postal_code          1018\n",
       "business_latitude            19556\n",
       "business_longitude           19556\n",
       "business_location            19556\n",
       "business_phone_number        36938\n",
       "inspection_id                    0\n",
       "inspection_date                  0\n",
       "inspection_score             13610\n",
       "inspection_type                  0\n",
       "violation_id                 12870\n",
       "violation_description        12870\n",
       "risk_category                12870\n",
       "Neighborhoods (old)          19594\n",
       "Police Districts             19594\n",
       "Supervisor Districts         19594\n",
       "Fire Prevention Districts    19646\n",
       "Zip Codes                    19576\n",
       "Analysis Neighborhoods       19594\n",
       "dtype: int64"
      ]
     },
     "execution_count": 5,
     "metadata": {},
     "output_type": "execute_result"
    }
   ],
   "source": [
    "data.isnull().sum()"
   ]
  },
  {
   "cell_type": "code",
   "execution_count": 6,
   "id": "c2274904",
   "metadata": {
    "execution": {
     "iopub.execute_input": "2022-04-23T23:03:00.664136Z",
     "iopub.status.busy": "2022-04-23T23:03:00.663817Z",
     "iopub.status.idle": "2022-04-23T23:03:00.694696Z",
     "shell.execute_reply": "2022-04-23T23:03:00.694131Z"
    },
    "papermill": {
     "duration": 0.062829,
     "end_time": "2022-04-23T23:03:00.696820",
     "exception": false,
     "start_time": "2022-04-23T23:03:00.633991",
     "status": "completed"
    },
    "tags": []
   },
   "outputs": [
    {
     "data": {
      "text/html": [
       "<div>\n",
       "<style scoped>\n",
       "    .dataframe tbody tr th:only-of-type {\n",
       "        vertical-align: middle;\n",
       "    }\n",
       "\n",
       "    .dataframe tbody tr th {\n",
       "        vertical-align: top;\n",
       "    }\n",
       "\n",
       "    .dataframe thead th {\n",
       "        text-align: right;\n",
       "    }\n",
       "</style>\n",
       "<table border=\"1\" class=\"dataframe\">\n",
       "  <thead>\n",
       "    <tr style=\"text-align: right;\">\n",
       "      <th></th>\n",
       "      <th>business_id</th>\n",
       "      <th>business_name</th>\n",
       "      <th>business_address</th>\n",
       "      <th>business_city</th>\n",
       "      <th>business_state</th>\n",
       "      <th>business_postal_code</th>\n",
       "      <th>business_latitude</th>\n",
       "      <th>business_longitude</th>\n",
       "      <th>business_location</th>\n",
       "      <th>business_phone_number</th>\n",
       "      <th>...</th>\n",
       "      <th>inspection_type</th>\n",
       "      <th>violation_id</th>\n",
       "      <th>violation_description</th>\n",
       "      <th>risk_category</th>\n",
       "      <th>Neighborhoods (old)</th>\n",
       "      <th>Police Districts</th>\n",
       "      <th>Supervisor Districts</th>\n",
       "      <th>Fire Prevention Districts</th>\n",
       "      <th>Zip Codes</th>\n",
       "      <th>Analysis Neighborhoods</th>\n",
       "    </tr>\n",
       "  </thead>\n",
       "  <tbody>\n",
       "    <tr>\n",
       "      <th>0</th>\n",
       "      <td>101192</td>\n",
       "      <td>Cochinita #2</td>\n",
       "      <td>2 Marina Blvd Fort Mason</td>\n",
       "      <td>San Francisco</td>\n",
       "      <td>CA</td>\n",
       "      <td>NaN</td>\n",
       "      <td>NaN</td>\n",
       "      <td>NaN</td>\n",
       "      <td>NaN</td>\n",
       "      <td>1.415043e+10</td>\n",
       "      <td>...</td>\n",
       "      <td>New Ownership</td>\n",
       "      <td>NaN</td>\n",
       "      <td>NaN</td>\n",
       "      <td>NaN</td>\n",
       "      <td>NaN</td>\n",
       "      <td>NaN</td>\n",
       "      <td>NaN</td>\n",
       "      <td>NaN</td>\n",
       "      <td>NaN</td>\n",
       "      <td>NaN</td>\n",
       "    </tr>\n",
       "    <tr>\n",
       "      <th>1</th>\n",
       "      <td>97975</td>\n",
       "      <td>BREADBELLY</td>\n",
       "      <td>1408 Clement St</td>\n",
       "      <td>San Francisco</td>\n",
       "      <td>CA</td>\n",
       "      <td>94118</td>\n",
       "      <td>NaN</td>\n",
       "      <td>NaN</td>\n",
       "      <td>NaN</td>\n",
       "      <td>1.415724e+10</td>\n",
       "      <td>...</td>\n",
       "      <td>Routine - Unscheduled</td>\n",
       "      <td>97975_20190725_103124</td>\n",
       "      <td>Inadequately cleaned or sanitized food contact...</td>\n",
       "      <td>Moderate Risk</td>\n",
       "      <td>NaN</td>\n",
       "      <td>NaN</td>\n",
       "      <td>NaN</td>\n",
       "      <td>NaN</td>\n",
       "      <td>NaN</td>\n",
       "      <td>NaN</td>\n",
       "    </tr>\n",
       "    <tr>\n",
       "      <th>2</th>\n",
       "      <td>92982</td>\n",
       "      <td>Great Gold Restaurant</td>\n",
       "      <td>3161 24th St.</td>\n",
       "      <td>San Francisco</td>\n",
       "      <td>CA</td>\n",
       "      <td>94110</td>\n",
       "      <td>NaN</td>\n",
       "      <td>NaN</td>\n",
       "      <td>NaN</td>\n",
       "      <td>NaN</td>\n",
       "      <td>...</td>\n",
       "      <td>New Ownership</td>\n",
       "      <td>NaN</td>\n",
       "      <td>NaN</td>\n",
       "      <td>NaN</td>\n",
       "      <td>NaN</td>\n",
       "      <td>NaN</td>\n",
       "      <td>NaN</td>\n",
       "      <td>NaN</td>\n",
       "      <td>NaN</td>\n",
       "      <td>NaN</td>\n",
       "    </tr>\n",
       "    <tr>\n",
       "      <th>3</th>\n",
       "      <td>101389</td>\n",
       "      <td>HOMAGE</td>\n",
       "      <td>214 CALIFORNIA ST</td>\n",
       "      <td>San Francisco</td>\n",
       "      <td>CA</td>\n",
       "      <td>94111</td>\n",
       "      <td>NaN</td>\n",
       "      <td>NaN</td>\n",
       "      <td>NaN</td>\n",
       "      <td>1.415488e+10</td>\n",
       "      <td>...</td>\n",
       "      <td>New Construction</td>\n",
       "      <td>NaN</td>\n",
       "      <td>NaN</td>\n",
       "      <td>NaN</td>\n",
       "      <td>NaN</td>\n",
       "      <td>NaN</td>\n",
       "      <td>NaN</td>\n",
       "      <td>NaN</td>\n",
       "      <td>NaN</td>\n",
       "      <td>NaN</td>\n",
       "    </tr>\n",
       "    <tr>\n",
       "      <th>4</th>\n",
       "      <td>85986</td>\n",
       "      <td>Pronto Pizza</td>\n",
       "      <td>798 Eddy St</td>\n",
       "      <td>San Francisco</td>\n",
       "      <td>CA</td>\n",
       "      <td>94109</td>\n",
       "      <td>NaN</td>\n",
       "      <td>NaN</td>\n",
       "      <td>NaN</td>\n",
       "      <td>NaN</td>\n",
       "      <td>...</td>\n",
       "      <td>New Ownership</td>\n",
       "      <td>85986_20161011_103114</td>\n",
       "      <td>High risk vermin infestation</td>\n",
       "      <td>High Risk</td>\n",
       "      <td>NaN</td>\n",
       "      <td>NaN</td>\n",
       "      <td>NaN</td>\n",
       "      <td>NaN</td>\n",
       "      <td>NaN</td>\n",
       "      <td>NaN</td>\n",
       "    </tr>\n",
       "  </tbody>\n",
       "</table>\n",
       "<p>5 rows × 23 columns</p>\n",
       "</div>"
      ],
      "text/plain": [
       "   business_id          business_name          business_address  \\\n",
       "0       101192           Cochinita #2  2 Marina Blvd Fort Mason   \n",
       "1        97975             BREADBELLY           1408 Clement St   \n",
       "2        92982  Great Gold Restaurant             3161 24th St.   \n",
       "3       101389                 HOMAGE         214 CALIFORNIA ST   \n",
       "4        85986           Pronto Pizza               798 Eddy St   \n",
       "\n",
       "   business_city business_state business_postal_code  business_latitude  \\\n",
       "0  San Francisco             CA                  NaN                NaN   \n",
       "1  San Francisco             CA                94118                NaN   \n",
       "2  San Francisco             CA                94110                NaN   \n",
       "3  San Francisco             CA                94111                NaN   \n",
       "4  San Francisco             CA                94109                NaN   \n",
       "\n",
       "   business_longitude business_location  business_phone_number  ...  \\\n",
       "0                 NaN               NaN           1.415043e+10  ...   \n",
       "1                 NaN               NaN           1.415724e+10  ...   \n",
       "2                 NaN               NaN                    NaN  ...   \n",
       "3                 NaN               NaN           1.415488e+10  ...   \n",
       "4                 NaN               NaN                    NaN  ...   \n",
       "\n",
       "         inspection_type           violation_id  \\\n",
       "0          New Ownership                    NaN   \n",
       "1  Routine - Unscheduled  97975_20190725_103124   \n",
       "2          New Ownership                    NaN   \n",
       "3       New Construction                    NaN   \n",
       "4          New Ownership  85986_20161011_103114   \n",
       "\n",
       "                               violation_description  risk_category  \\\n",
       "0                                                NaN            NaN   \n",
       "1  Inadequately cleaned or sanitized food contact...  Moderate Risk   \n",
       "2                                                NaN            NaN   \n",
       "3                                                NaN            NaN   \n",
       "4                       High risk vermin infestation      High Risk   \n",
       "\n",
       "  Neighborhoods (old) Police Districts Supervisor Districts  \\\n",
       "0                 NaN              NaN                  NaN   \n",
       "1                 NaN              NaN                  NaN   \n",
       "2                 NaN              NaN                  NaN   \n",
       "3                 NaN              NaN                  NaN   \n",
       "4                 NaN              NaN                  NaN   \n",
       "\n",
       "   Fire Prevention Districts  Zip Codes  Analysis Neighborhoods  \n",
       "0                        NaN        NaN                     NaN  \n",
       "1                        NaN        NaN                     NaN  \n",
       "2                        NaN        NaN                     NaN  \n",
       "3                        NaN        NaN                     NaN  \n",
       "4                        NaN        NaN                     NaN  \n",
       "\n",
       "[5 rows x 23 columns]"
      ]
     },
     "execution_count": 6,
     "metadata": {},
     "output_type": "execute_result"
    }
   ],
   "source": [
    "data.head()"
   ]
  },
  {
   "cell_type": "markdown",
   "id": "f740d633",
   "metadata": {
    "papermill": {
     "duration": 0.029322,
     "end_time": "2022-04-23T23:03:00.755393",
     "exception": false,
     "start_time": "2022-04-23T23:03:00.726071",
     "status": "completed"
    },
    "tags": []
   },
   "source": [
    "Удаляем колонки состаящие полностью из NaN"
   ]
  },
  {
   "cell_type": "code",
   "execution_count": 7,
   "id": "918f1b47",
   "metadata": {
    "execution": {
     "iopub.execute_input": "2022-04-23T23:03:00.815512Z",
     "iopub.status.busy": "2022-04-23T23:03:00.815012Z",
     "iopub.status.idle": "2022-04-23T23:03:00.896505Z",
     "shell.execute_reply": "2022-04-23T23:03:00.895486Z"
    },
    "papermill": {
     "duration": 0.114445,
     "end_time": "2022-04-23T23:03:00.898960",
     "exception": false,
     "start_time": "2022-04-23T23:03:00.784515",
     "status": "completed"
    },
    "tags": []
   },
   "outputs": [],
   "source": [
    "\n",
    "data.dropna(axis='columns',how='all', inplace=True) "
   ]
  },
  {
   "cell_type": "code",
   "execution_count": 8,
   "id": "c57828f4",
   "metadata": {
    "execution": {
     "iopub.execute_input": "2022-04-23T23:03:00.959383Z",
     "iopub.status.busy": "2022-04-23T23:03:00.958923Z",
     "iopub.status.idle": "2022-04-23T23:03:01.073262Z",
     "shell.execute_reply": "2022-04-23T23:03:01.072437Z"
    },
    "papermill": {
     "duration": 0.147517,
     "end_time": "2022-04-23T23:03:01.075752",
     "exception": false,
     "start_time": "2022-04-23T23:03:00.928235",
     "status": "completed"
    },
    "tags": []
   },
   "outputs": [
    {
     "data": {
      "text/html": [
       "<div>\n",
       "<style scoped>\n",
       "    .dataframe tbody tr th:only-of-type {\n",
       "        vertical-align: middle;\n",
       "    }\n",
       "\n",
       "    .dataframe tbody tr th {\n",
       "        vertical-align: top;\n",
       "    }\n",
       "\n",
       "    .dataframe thead th {\n",
       "        text-align: right;\n",
       "    }\n",
       "</style>\n",
       "<table border=\"1\" class=\"dataframe\">\n",
       "  <thead>\n",
       "    <tr style=\"text-align: right;\">\n",
       "      <th></th>\n",
       "      <th>business_id</th>\n",
       "      <th>business_name</th>\n",
       "      <th>business_address</th>\n",
       "      <th>business_city</th>\n",
       "      <th>business_state</th>\n",
       "      <th>business_postal_code</th>\n",
       "      <th>business_latitude</th>\n",
       "      <th>business_longitude</th>\n",
       "      <th>business_location</th>\n",
       "      <th>business_phone_number</th>\n",
       "      <th>...</th>\n",
       "      <th>inspection_type</th>\n",
       "      <th>violation_id</th>\n",
       "      <th>violation_description</th>\n",
       "      <th>risk_category</th>\n",
       "      <th>Neighborhoods (old)</th>\n",
       "      <th>Police Districts</th>\n",
       "      <th>Supervisor Districts</th>\n",
       "      <th>Fire Prevention Districts</th>\n",
       "      <th>Zip Codes</th>\n",
       "      <th>Analysis Neighborhoods</th>\n",
       "    </tr>\n",
       "  </thead>\n",
       "  <tbody>\n",
       "    <tr>\n",
       "      <th>0</th>\n",
       "      <td>101192</td>\n",
       "      <td>Cochinita #2</td>\n",
       "      <td>2 Marina Blvd Fort Mason</td>\n",
       "      <td>San Francisco</td>\n",
       "      <td>CA</td>\n",
       "      <td>00000</td>\n",
       "      <td>NaN</td>\n",
       "      <td>NaN</td>\n",
       "      <td>No Info</td>\n",
       "      <td>1.415043e+10</td>\n",
       "      <td>...</td>\n",
       "      <td>New Ownership</td>\n",
       "      <td>NaN</td>\n",
       "      <td>NaN</td>\n",
       "      <td>NaN</td>\n",
       "      <td>NaN</td>\n",
       "      <td>NaN</td>\n",
       "      <td>NaN</td>\n",
       "      <td>NaN</td>\n",
       "      <td>000000</td>\n",
       "      <td>NaN</td>\n",
       "    </tr>\n",
       "    <tr>\n",
       "      <th>1</th>\n",
       "      <td>97975</td>\n",
       "      <td>BREADBELLY</td>\n",
       "      <td>1408 Clement St</td>\n",
       "      <td>San Francisco</td>\n",
       "      <td>CA</td>\n",
       "      <td>94118</td>\n",
       "      <td>NaN</td>\n",
       "      <td>NaN</td>\n",
       "      <td>No Info</td>\n",
       "      <td>1.415724e+10</td>\n",
       "      <td>...</td>\n",
       "      <td>Routine - Unscheduled</td>\n",
       "      <td>97975_20190725_103124</td>\n",
       "      <td>Inadequately cleaned or sanitized food contact...</td>\n",
       "      <td>Moderate Risk</td>\n",
       "      <td>NaN</td>\n",
       "      <td>NaN</td>\n",
       "      <td>NaN</td>\n",
       "      <td>NaN</td>\n",
       "      <td>000000</td>\n",
       "      <td>NaN</td>\n",
       "    </tr>\n",
       "    <tr>\n",
       "      <th>2</th>\n",
       "      <td>92982</td>\n",
       "      <td>Great Gold Restaurant</td>\n",
       "      <td>3161 24th St.</td>\n",
       "      <td>San Francisco</td>\n",
       "      <td>CA</td>\n",
       "      <td>94110</td>\n",
       "      <td>NaN</td>\n",
       "      <td>NaN</td>\n",
       "      <td>No Info</td>\n",
       "      <td>0.000000e+00</td>\n",
       "      <td>...</td>\n",
       "      <td>New Ownership</td>\n",
       "      <td>NaN</td>\n",
       "      <td>NaN</td>\n",
       "      <td>NaN</td>\n",
       "      <td>NaN</td>\n",
       "      <td>NaN</td>\n",
       "      <td>NaN</td>\n",
       "      <td>NaN</td>\n",
       "      <td>000000</td>\n",
       "      <td>NaN</td>\n",
       "    </tr>\n",
       "    <tr>\n",
       "      <th>3</th>\n",
       "      <td>101389</td>\n",
       "      <td>HOMAGE</td>\n",
       "      <td>214 CALIFORNIA ST</td>\n",
       "      <td>San Francisco</td>\n",
       "      <td>CA</td>\n",
       "      <td>94111</td>\n",
       "      <td>NaN</td>\n",
       "      <td>NaN</td>\n",
       "      <td>No Info</td>\n",
       "      <td>1.415488e+10</td>\n",
       "      <td>...</td>\n",
       "      <td>New Construction</td>\n",
       "      <td>NaN</td>\n",
       "      <td>NaN</td>\n",
       "      <td>NaN</td>\n",
       "      <td>NaN</td>\n",
       "      <td>NaN</td>\n",
       "      <td>NaN</td>\n",
       "      <td>NaN</td>\n",
       "      <td>000000</td>\n",
       "      <td>NaN</td>\n",
       "    </tr>\n",
       "    <tr>\n",
       "      <th>4</th>\n",
       "      <td>85986</td>\n",
       "      <td>Pronto Pizza</td>\n",
       "      <td>798 Eddy St</td>\n",
       "      <td>San Francisco</td>\n",
       "      <td>CA</td>\n",
       "      <td>94109</td>\n",
       "      <td>NaN</td>\n",
       "      <td>NaN</td>\n",
       "      <td>No Info</td>\n",
       "      <td>0.000000e+00</td>\n",
       "      <td>...</td>\n",
       "      <td>New Ownership</td>\n",
       "      <td>85986_20161011_103114</td>\n",
       "      <td>High risk vermin infestation</td>\n",
       "      <td>High Risk</td>\n",
       "      <td>NaN</td>\n",
       "      <td>NaN</td>\n",
       "      <td>NaN</td>\n",
       "      <td>NaN</td>\n",
       "      <td>000000</td>\n",
       "      <td>NaN</td>\n",
       "    </tr>\n",
       "    <tr>\n",
       "      <th>...</th>\n",
       "      <td>...</td>\n",
       "      <td>...</td>\n",
       "      <td>...</td>\n",
       "      <td>...</td>\n",
       "      <td>...</td>\n",
       "      <td>...</td>\n",
       "      <td>...</td>\n",
       "      <td>...</td>\n",
       "      <td>...</td>\n",
       "      <td>...</td>\n",
       "      <td>...</td>\n",
       "      <td>...</td>\n",
       "      <td>...</td>\n",
       "      <td>...</td>\n",
       "      <td>...</td>\n",
       "      <td>...</td>\n",
       "      <td>...</td>\n",
       "      <td>...</td>\n",
       "      <td>...</td>\n",
       "      <td>...</td>\n",
       "      <td>...</td>\n",
       "    </tr>\n",
       "    <tr>\n",
       "      <th>53968</th>\n",
       "      <td>89569</td>\n",
       "      <td>Blue Bottle Coffee</td>\n",
       "      <td>2 South Park</td>\n",
       "      <td>San Francisco</td>\n",
       "      <td>CA</td>\n",
       "      <td>94107</td>\n",
       "      <td>NaN</td>\n",
       "      <td>NaN</td>\n",
       "      <td>No Info</td>\n",
       "      <td>0.000000e+00</td>\n",
       "      <td>...</td>\n",
       "      <td>Routine - Unscheduled</td>\n",
       "      <td>89569_20190506_103124</td>\n",
       "      <td>Inadequately cleaned or sanitized food contact...</td>\n",
       "      <td>Moderate Risk</td>\n",
       "      <td>NaN</td>\n",
       "      <td>NaN</td>\n",
       "      <td>NaN</td>\n",
       "      <td>NaN</td>\n",
       "      <td>000000</td>\n",
       "      <td>NaN</td>\n",
       "    </tr>\n",
       "    <tr>\n",
       "      <th>53969</th>\n",
       "      <td>99764</td>\n",
       "      <td>POKE KANA</td>\n",
       "      <td>65 CAMBON Dr</td>\n",
       "      <td>San Francisco</td>\n",
       "      <td>CA</td>\n",
       "      <td>94132</td>\n",
       "      <td>NaN</td>\n",
       "      <td>NaN</td>\n",
       "      <td>No Info</td>\n",
       "      <td>0.000000e+00</td>\n",
       "      <td>...</td>\n",
       "      <td>New Ownership - Followup</td>\n",
       "      <td>NaN</td>\n",
       "      <td>NaN</td>\n",
       "      <td>NaN</td>\n",
       "      <td>NaN</td>\n",
       "      <td>NaN</td>\n",
       "      <td>NaN</td>\n",
       "      <td>NaN</td>\n",
       "      <td>000000</td>\n",
       "      <td>NaN</td>\n",
       "    </tr>\n",
       "    <tr>\n",
       "      <th>53970</th>\n",
       "      <td>84541</td>\n",
       "      <td>Philz Coffee</td>\n",
       "      <td>300 Folsom St</td>\n",
       "      <td>San Francisco</td>\n",
       "      <td>CA</td>\n",
       "      <td>94105</td>\n",
       "      <td>NaN</td>\n",
       "      <td>NaN</td>\n",
       "      <td>No Info</td>\n",
       "      <td>0.000000e+00</td>\n",
       "      <td>...</td>\n",
       "      <td>Routine - Unscheduled</td>\n",
       "      <td>84541_20190506_103133</td>\n",
       "      <td>Foods not protected from contamination</td>\n",
       "      <td>Moderate Risk</td>\n",
       "      <td>NaN</td>\n",
       "      <td>NaN</td>\n",
       "      <td>NaN</td>\n",
       "      <td>NaN</td>\n",
       "      <td>000000</td>\n",
       "      <td>NaN</td>\n",
       "    </tr>\n",
       "    <tr>\n",
       "      <th>53971</th>\n",
       "      <td>91572</td>\n",
       "      <td>El Gran Taco Loco</td>\n",
       "      <td>4591 Mission St.</td>\n",
       "      <td>San Francisco</td>\n",
       "      <td>CA</td>\n",
       "      <td>94112</td>\n",
       "      <td>NaN</td>\n",
       "      <td>NaN</td>\n",
       "      <td>No Info</td>\n",
       "      <td>0.000000e+00</td>\n",
       "      <td>...</td>\n",
       "      <td>Routine - Unscheduled</td>\n",
       "      <td>91572_20190506_103116</td>\n",
       "      <td>Inadequate food safety knowledge or lack of ce...</td>\n",
       "      <td>Moderate Risk</td>\n",
       "      <td>NaN</td>\n",
       "      <td>NaN</td>\n",
       "      <td>NaN</td>\n",
       "      <td>NaN</td>\n",
       "      <td>000000</td>\n",
       "      <td>NaN</td>\n",
       "    </tr>\n",
       "    <tr>\n",
       "      <th>53972</th>\n",
       "      <td>89569</td>\n",
       "      <td>Blue Bottle Coffee</td>\n",
       "      <td>2 South Park</td>\n",
       "      <td>San Francisco</td>\n",
       "      <td>CA</td>\n",
       "      <td>94107</td>\n",
       "      <td>NaN</td>\n",
       "      <td>NaN</td>\n",
       "      <td>No Info</td>\n",
       "      <td>0.000000e+00</td>\n",
       "      <td>...</td>\n",
       "      <td>Routine - Unscheduled</td>\n",
       "      <td>89569_20190506_103157</td>\n",
       "      <td>Food safety certificate or food handler card n...</td>\n",
       "      <td>Low Risk</td>\n",
       "      <td>NaN</td>\n",
       "      <td>NaN</td>\n",
       "      <td>NaN</td>\n",
       "      <td>NaN</td>\n",
       "      <td>000000</td>\n",
       "      <td>NaN</td>\n",
       "    </tr>\n",
       "  </tbody>\n",
       "</table>\n",
       "<p>53973 rows × 23 columns</p>\n",
       "</div>"
      ],
      "text/plain": [
       "       business_id          business_name          business_address  \\\n",
       "0           101192           Cochinita #2  2 Marina Blvd Fort Mason   \n",
       "1            97975             BREADBELLY           1408 Clement St   \n",
       "2            92982  Great Gold Restaurant             3161 24th St.   \n",
       "3           101389                 HOMAGE         214 CALIFORNIA ST   \n",
       "4            85986           Pronto Pizza               798 Eddy St   \n",
       "...            ...                    ...                       ...   \n",
       "53968        89569     Blue Bottle Coffee              2 South Park   \n",
       "53969        99764              POKE KANA              65 CAMBON Dr   \n",
       "53970        84541           Philz Coffee             300 Folsom St   \n",
       "53971        91572      El Gran Taco Loco          4591 Mission St.   \n",
       "53972        89569     Blue Bottle Coffee              2 South Park   \n",
       "\n",
       "       business_city business_state business_postal_code  business_latitude  \\\n",
       "0      San Francisco             CA                00000                NaN   \n",
       "1      San Francisco             CA                94118                NaN   \n",
       "2      San Francisco             CA                94110                NaN   \n",
       "3      San Francisco             CA                94111                NaN   \n",
       "4      San Francisco             CA                94109                NaN   \n",
       "...              ...            ...                  ...                ...   \n",
       "53968  San Francisco             CA                94107                NaN   \n",
       "53969  San Francisco             CA                94132                NaN   \n",
       "53970  San Francisco             CA                94105                NaN   \n",
       "53971  San Francisco             CA                94112                NaN   \n",
       "53972  San Francisco             CA                94107                NaN   \n",
       "\n",
       "       business_longitude business_location  business_phone_number  ...  \\\n",
       "0                     NaN           No Info           1.415043e+10  ...   \n",
       "1                     NaN           No Info           1.415724e+10  ...   \n",
       "2                     NaN           No Info           0.000000e+00  ...   \n",
       "3                     NaN           No Info           1.415488e+10  ...   \n",
       "4                     NaN           No Info           0.000000e+00  ...   \n",
       "...                   ...               ...                    ...  ...   \n",
       "53968                 NaN           No Info           0.000000e+00  ...   \n",
       "53969                 NaN           No Info           0.000000e+00  ...   \n",
       "53970                 NaN           No Info           0.000000e+00  ...   \n",
       "53971                 NaN           No Info           0.000000e+00  ...   \n",
       "53972                 NaN           No Info           0.000000e+00  ...   \n",
       "\n",
       "                inspection_type           violation_id  \\\n",
       "0                 New Ownership                    NaN   \n",
       "1         Routine - Unscheduled  97975_20190725_103124   \n",
       "2                 New Ownership                    NaN   \n",
       "3              New Construction                    NaN   \n",
       "4                 New Ownership  85986_20161011_103114   \n",
       "...                         ...                    ...   \n",
       "53968     Routine - Unscheduled  89569_20190506_103124   \n",
       "53969  New Ownership - Followup                    NaN   \n",
       "53970     Routine - Unscheduled  84541_20190506_103133   \n",
       "53971     Routine - Unscheduled  91572_20190506_103116   \n",
       "53972     Routine - Unscheduled  89569_20190506_103157   \n",
       "\n",
       "                                   violation_description  risk_category  \\\n",
       "0                                                    NaN            NaN   \n",
       "1      Inadequately cleaned or sanitized food contact...  Moderate Risk   \n",
       "2                                                    NaN            NaN   \n",
       "3                                                    NaN            NaN   \n",
       "4                           High risk vermin infestation      High Risk   \n",
       "...                                                  ...            ...   \n",
       "53968  Inadequately cleaned or sanitized food contact...  Moderate Risk   \n",
       "53969                                                NaN            NaN   \n",
       "53970             Foods not protected from contamination  Moderate Risk   \n",
       "53971  Inadequate food safety knowledge or lack of ce...  Moderate Risk   \n",
       "53972  Food safety certificate or food handler card n...       Low Risk   \n",
       "\n",
       "      Neighborhoods (old) Police Districts Supervisor Districts  \\\n",
       "0                     NaN              NaN                  NaN   \n",
       "1                     NaN              NaN                  NaN   \n",
       "2                     NaN              NaN                  NaN   \n",
       "3                     NaN              NaN                  NaN   \n",
       "4                     NaN              NaN                  NaN   \n",
       "...                   ...              ...                  ...   \n",
       "53968                 NaN              NaN                  NaN   \n",
       "53969                 NaN              NaN                  NaN   \n",
       "53970                 NaN              NaN                  NaN   \n",
       "53971                 NaN              NaN                  NaN   \n",
       "53972                 NaN              NaN                  NaN   \n",
       "\n",
       "       Fire Prevention Districts  Zip Codes  Analysis Neighborhoods  \n",
       "0                            NaN     000000                     NaN  \n",
       "1                            NaN     000000                     NaN  \n",
       "2                            NaN     000000                     NaN  \n",
       "3                            NaN     000000                     NaN  \n",
       "4                            NaN     000000                     NaN  \n",
       "...                          ...        ...                     ...  \n",
       "53968                        NaN     000000                     NaN  \n",
       "53969                        NaN     000000                     NaN  \n",
       "53970                        NaN     000000                     NaN  \n",
       "53971                        NaN     000000                     NaN  \n",
       "53972                        NaN     000000                     NaN  \n",
       "\n",
       "[53973 rows x 23 columns]"
      ]
     },
     "execution_count": 8,
     "metadata": {},
     "output_type": "execute_result"
    }
   ],
   "source": [
    "data.fillna({'business_postal_code':'00000',\n",
    "             #'business_latitude':0,\n",
    "             #'business_longitude':0,\n",
    "             'business_location':'No Info',\n",
    "             'business_phone_number': 0,\n",
    "            # 'inspection_score':99,\n",
    "            # 'violation_id':99,\n",
    "            # 'violation_description':99,\n",
    "            #'risk_category':99,\n",
    "             #'Neighborhoods (old)':99,\n",
    "             #'Police Districts':99,\n",
    "             #'Supervisor Districts':99,\n",
    "             #'Fire Prevention Districts':99,\n",
    "             'Zip Codes':'000000',\n",
    "            # 'Analysis Neighborhoods':99,\n",
    "            })"
   ]
  },
  {
   "cell_type": "markdown",
   "id": "69a4b20f",
   "metadata": {
    "papermill": {
     "duration": 0.030119,
     "end_time": "2022-04-23T23:03:01.136104",
     "exception": false,
     "start_time": "2022-04-23T23:03:01.105985",
     "status": "completed"
    },
    "tags": []
   },
   "source": [
    "Возьмем колонку business_city для преобразования. Для этой колонки подойдет Label Encoding, т.к. в ней отсутствует порядок"
   ]
  },
  {
   "cell_type": "code",
   "execution_count": 9,
   "id": "e8c497d9",
   "metadata": {
    "execution": {
     "iopub.execute_input": "2022-04-23T23:03:01.199487Z",
     "iopub.status.busy": "2022-04-23T23:03:01.198941Z",
     "iopub.status.idle": "2022-04-23T23:03:01.214183Z",
     "shell.execute_reply": "2022-04-23T23:03:01.213342Z"
    },
    "papermill": {
     "duration": 0.050057,
     "end_time": "2022-04-23T23:03:01.216396",
     "exception": false,
     "start_time": "2022-04-23T23:03:01.166339",
     "status": "completed"
    },
    "tags": []
   },
   "outputs": [
    {
     "data": {
      "text/plain": [
       "array(['Cochinita #2', 'BREADBELLY', 'Great Gold Restaurant', ...,\n",
       "       'LITTLE PARIS', 'Tosca Cafe', 'LITTLE SWEET'], dtype=object)"
      ]
     },
     "execution_count": 9,
     "metadata": {},
     "output_type": "execute_result"
    }
   ],
   "source": [
    "# Возьмем колонку business_city для преобразования. Для этой колонки подойдет Label Encoding, т.к. в ней отсутствует порядок\n",
    "cat_data = data[['business_name']]\n",
    "cat_data.head()\n",
    "cat_data['business_name'].unique()"
   ]
  },
  {
   "cell_type": "code",
   "execution_count": 10,
   "id": "363a34c0",
   "metadata": {
    "execution": {
     "iopub.execute_input": "2022-04-23T23:03:01.279811Z",
     "iopub.status.busy": "2022-04-23T23:03:01.279387Z",
     "iopub.status.idle": "2022-04-23T23:03:01.363947Z",
     "shell.execute_reply": "2022-04-23T23:03:01.363082Z"
    },
    "papermill": {
     "duration": 0.119063,
     "end_time": "2022-04-23T23:03:01.366005",
     "exception": false,
     "start_time": "2022-04-23T23:03:01.246942",
     "status": "completed"
    },
    "tags": []
   },
   "outputs": [
    {
     "data": {
      "text/html": [
       "<div>\n",
       "<style scoped>\n",
       "    .dataframe tbody tr th:only-of-type {\n",
       "        vertical-align: middle;\n",
       "    }\n",
       "\n",
       "    .dataframe tbody tr th {\n",
       "        vertical-align: top;\n",
       "    }\n",
       "\n",
       "    .dataframe thead th {\n",
       "        text-align: right;\n",
       "    }\n",
       "</style>\n",
       "<table border=\"1\" class=\"dataframe\">\n",
       "  <thead>\n",
       "    <tr style=\"text-align: right;\">\n",
       "      <th></th>\n",
       "      <th>business_id</th>\n",
       "      <th>business_latitude</th>\n",
       "      <th>business_longitude</th>\n",
       "      <th>business_phone_number</th>\n",
       "      <th>inspection_score</th>\n",
       "      <th>Neighborhoods (old)</th>\n",
       "      <th>Police Districts</th>\n",
       "      <th>Supervisor Districts</th>\n",
       "      <th>Fire Prevention Districts</th>\n",
       "      <th>Zip Codes</th>\n",
       "      <th>Analysis Neighborhoods</th>\n",
       "    </tr>\n",
       "  </thead>\n",
       "  <tbody>\n",
       "    <tr>\n",
       "      <th>count</th>\n",
       "      <td>53973.000000</td>\n",
       "      <td>34417.000000</td>\n",
       "      <td>34417.000000</td>\n",
       "      <td>1.703500e+04</td>\n",
       "      <td>40363.000000</td>\n",
       "      <td>34379.000000</td>\n",
       "      <td>34379.000000</td>\n",
       "      <td>34379.000000</td>\n",
       "      <td>34327.000000</td>\n",
       "      <td>34397.000000</td>\n",
       "      <td>34379.000000</td>\n",
       "    </tr>\n",
       "    <tr>\n",
       "      <th>mean</th>\n",
       "      <td>47858.093084</td>\n",
       "      <td>37.749669</td>\n",
       "      <td>-122.355849</td>\n",
       "      <td>1.415543e+10</td>\n",
       "      <td>86.226792</td>\n",
       "      <td>19.048053</td>\n",
       "      <td>4.838855</td>\n",
       "      <td>7.086535</td>\n",
       "      <td>7.463687</td>\n",
       "      <td>20035.113353</td>\n",
       "      <td>19.562145</td>\n",
       "    </tr>\n",
       "    <tr>\n",
       "      <th>std</th>\n",
       "      <td>36582.677313</td>\n",
       "      <td>0.910580</td>\n",
       "      <td>2.950563</td>\n",
       "      <td>1.292796e+06</td>\n",
       "      <td>8.462915</td>\n",
       "      <td>11.847245</td>\n",
       "      <td>2.966111</td>\n",
       "      <td>3.144130</td>\n",
       "      <td>4.478354</td>\n",
       "      <td>13315.427650</td>\n",
       "      <td>11.629285</td>\n",
       "    </tr>\n",
       "    <tr>\n",
       "      <th>min</th>\n",
       "      <td>19.000000</td>\n",
       "      <td>0.000000</td>\n",
       "      <td>-122.510896</td>\n",
       "      <td>1.415020e+10</td>\n",
       "      <td>45.000000</td>\n",
       "      <td>1.000000</td>\n",
       "      <td>1.000000</td>\n",
       "      <td>1.000000</td>\n",
       "      <td>1.000000</td>\n",
       "      <td>54.000000</td>\n",
       "      <td>1.000000</td>\n",
       "    </tr>\n",
       "    <tr>\n",
       "      <th>25%</th>\n",
       "      <td>4920.000000</td>\n",
       "      <td>37.756231</td>\n",
       "      <td>-122.436685</td>\n",
       "      <td>1.415537e+10</td>\n",
       "      <td>81.000000</td>\n",
       "      <td>6.000000</td>\n",
       "      <td>2.000000</td>\n",
       "      <td>5.000000</td>\n",
       "      <td>3.000000</td>\n",
       "      <td>308.000000</td>\n",
       "      <td>8.000000</td>\n",
       "    </tr>\n",
       "    <tr>\n",
       "      <th>50%</th>\n",
       "      <td>61861.000000</td>\n",
       "      <td>37.780087</td>\n",
       "      <td>-122.419115</td>\n",
       "      <td>1.415561e+10</td>\n",
       "      <td>87.000000</td>\n",
       "      <td>19.000000</td>\n",
       "      <td>4.000000</td>\n",
       "      <td>8.000000</td>\n",
       "      <td>8.000000</td>\n",
       "      <td>28855.000000</td>\n",
       "      <td>20.000000</td>\n",
       "    </tr>\n",
       "    <tr>\n",
       "      <th>75%</th>\n",
       "      <td>81956.000000</td>\n",
       "      <td>37.788882</td>\n",
       "      <td>-122.407444</td>\n",
       "      <td>1.415580e+10</td>\n",
       "      <td>92.000000</td>\n",
       "      <td>28.000000</td>\n",
       "      <td>8.000000</td>\n",
       "      <td>10.000000</td>\n",
       "      <td>11.000000</td>\n",
       "      <td>28859.000000</td>\n",
       "      <td>30.000000</td>\n",
       "    </tr>\n",
       "    <tr>\n",
       "      <th>max</th>\n",
       "      <td>102705.000000</td>\n",
       "      <td>37.824494</td>\n",
       "      <td>0.000000</td>\n",
       "      <td>1.415988e+10</td>\n",
       "      <td>100.000000</td>\n",
       "      <td>41.000000</td>\n",
       "      <td>10.000000</td>\n",
       "      <td>11.000000</td>\n",
       "      <td>15.000000</td>\n",
       "      <td>29492.000000</td>\n",
       "      <td>41.000000</td>\n",
       "    </tr>\n",
       "  </tbody>\n",
       "</table>\n",
       "</div>"
      ],
      "text/plain": [
       "         business_id  business_latitude  business_longitude  \\\n",
       "count   53973.000000       34417.000000        34417.000000   \n",
       "mean    47858.093084          37.749669         -122.355849   \n",
       "std     36582.677313           0.910580            2.950563   \n",
       "min        19.000000           0.000000         -122.510896   \n",
       "25%      4920.000000          37.756231         -122.436685   \n",
       "50%     61861.000000          37.780087         -122.419115   \n",
       "75%     81956.000000          37.788882         -122.407444   \n",
       "max    102705.000000          37.824494            0.000000   \n",
       "\n",
       "       business_phone_number  inspection_score  Neighborhoods (old)  \\\n",
       "count           1.703500e+04      40363.000000         34379.000000   \n",
       "mean            1.415543e+10         86.226792            19.048053   \n",
       "std             1.292796e+06          8.462915            11.847245   \n",
       "min             1.415020e+10         45.000000             1.000000   \n",
       "25%             1.415537e+10         81.000000             6.000000   \n",
       "50%             1.415561e+10         87.000000            19.000000   \n",
       "75%             1.415580e+10         92.000000            28.000000   \n",
       "max             1.415988e+10        100.000000            41.000000   \n",
       "\n",
       "       Police Districts  Supervisor Districts  Fire Prevention Districts  \\\n",
       "count      34379.000000          34379.000000               34327.000000   \n",
       "mean           4.838855              7.086535                   7.463687   \n",
       "std            2.966111              3.144130                   4.478354   \n",
       "min            1.000000              1.000000                   1.000000   \n",
       "25%            2.000000              5.000000                   3.000000   \n",
       "50%            4.000000              8.000000                   8.000000   \n",
       "75%            8.000000             10.000000                  11.000000   \n",
       "max           10.000000             11.000000                  15.000000   \n",
       "\n",
       "          Zip Codes  Analysis Neighborhoods  \n",
       "count  34397.000000            34379.000000  \n",
       "mean   20035.113353               19.562145  \n",
       "std    13315.427650               11.629285  \n",
       "min       54.000000                1.000000  \n",
       "25%      308.000000                8.000000  \n",
       "50%    28855.000000               20.000000  \n",
       "75%    28859.000000               30.000000  \n",
       "max    29492.000000               41.000000  "
      ]
     },
     "execution_count": 10,
     "metadata": {},
     "output_type": "execute_result"
    }
   ],
   "source": [
    "\n",
    "data.describe()"
   ]
  },
  {
   "cell_type": "code",
   "execution_count": 11,
   "id": "16e3cbc3",
   "metadata": {
    "execution": {
     "iopub.execute_input": "2022-04-23T23:03:01.431375Z",
     "iopub.status.busy": "2022-04-23T23:03:01.430519Z",
     "iopub.status.idle": "2022-04-23T23:03:01.452832Z",
     "shell.execute_reply": "2022-04-23T23:03:01.452051Z"
    },
    "papermill": {
     "duration": 0.056701,
     "end_time": "2022-04-23T23:03:01.454758",
     "exception": false,
     "start_time": "2022-04-23T23:03:01.398057",
     "status": "completed"
    },
    "tags": []
   },
   "outputs": [
    {
     "data": {
      "text/plain": [
       "array([['Cochinita #2'],\n",
       "       ['BREADBELLY'],\n",
       "       ['Great Gold Restaurant'],\n",
       "       ...,\n",
       "       ['Philz Coffee'],\n",
       "       ['El Gran Taco Loco'],\n",
       "       ['Blue Bottle Coffee']], dtype=object)"
      ]
     },
     "execution_count": 11,
     "metadata": {},
     "output_type": "execute_result"
    }
   ],
   "source": [
    "imp1 = SimpleImputer(missing_values = np.nan, strategy = 'most_frequent')\n",
    "data_imp1 = imp1.fit_transform(cat_data)\n",
    "data_imp1"
   ]
  },
  {
   "cell_type": "code",
   "execution_count": 12,
   "id": "b54abd0e",
   "metadata": {
    "execution": {
     "iopub.execute_input": "2022-04-23T23:03:01.519962Z",
     "iopub.status.busy": "2022-04-23T23:03:01.519667Z",
     "iopub.status.idle": "2022-04-23T23:03:01.557509Z",
     "shell.execute_reply": "2022-04-23T23:03:01.556661Z"
    },
    "papermill": {
     "duration": 0.072862,
     "end_time": "2022-04-23T23:03:01.559743",
     "exception": false,
     "start_time": "2022-04-23T23:03:01.486881",
     "status": "completed"
    },
    "tags": []
   },
   "outputs": [
    {
     "data": {
      "text/plain": [
       "array(['#1 VERJUS CAVE, #2 VERJUS', '111 Minna Gallery',\n",
       "       '12 Tribes Kosher Foods', ..., 'Zzan', 'iNoodles', 'vive la tarte'],\n",
       "      dtype=object)"
      ]
     },
     "execution_count": 12,
     "metadata": {},
     "output_type": "execute_result"
    }
   ],
   "source": [
    "cat_enc = pd.DataFrame({'nbusiness_name':data_imp1.T[0]})\n",
    "le = LabelEncoder()\n",
    "le_data = le.fit_transform(cat_enc['nbusiness_name'])\n",
    "le.classes_"
   ]
  },
  {
   "cell_type": "code",
   "execution_count": 13,
   "id": "4eed04ff",
   "metadata": {
    "execution": {
     "iopub.execute_input": "2022-04-23T23:03:01.625860Z",
     "iopub.status.busy": "2022-04-23T23:03:01.625564Z",
     "iopub.status.idle": "2022-04-23T23:03:01.630525Z",
     "shell.execute_reply": "2022-04-23T23:03:01.629997Z"
    },
    "papermill": {
     "duration": 0.040196,
     "end_time": "2022-04-23T23:03:01.632270",
     "exception": false,
     "start_time": "2022-04-23T23:03:01.592074",
     "status": "completed"
    },
    "tags": []
   },
   "outputs": [
    {
     "data": {
      "text/plain": [
       "array([1181,  500, 1972, ..., 3755, 1522,  676])"
      ]
     },
     "execution_count": 13,
     "metadata": {},
     "output_type": "execute_result"
    }
   ],
   "source": [
    "le_data"
   ]
  },
  {
   "cell_type": "code",
   "execution_count": 14,
   "id": "35774806",
   "metadata": {
    "execution": {
     "iopub.execute_input": "2022-04-23T23:03:01.699061Z",
     "iopub.status.busy": "2022-04-23T23:03:01.698568Z",
     "iopub.status.idle": "2022-04-23T23:03:01.707591Z",
     "shell.execute_reply": "2022-04-23T23:03:01.707068Z"
    },
    "papermill": {
     "duration": 0.044507,
     "end_time": "2022-04-23T23:03:01.709287",
     "exception": false,
     "start_time": "2022-04-23T23:03:01.664780",
     "status": "completed"
    },
    "tags": []
   },
   "outputs": [
    {
     "data": {
      "text/plain": [
       "array([   0,    1,    2, ..., 5569, 5570, 5571])"
      ]
     },
     "execution_count": 14,
     "metadata": {},
     "output_type": "execute_result"
    }
   ],
   "source": [
    "np.unique(le_data)"
   ]
  },
  {
   "cell_type": "code",
   "execution_count": 15,
   "id": "a1c096ab",
   "metadata": {
    "execution": {
     "iopub.execute_input": "2022-04-23T23:03:01.777105Z",
     "iopub.status.busy": "2022-04-23T23:03:01.776558Z",
     "iopub.status.idle": "2022-04-23T23:03:01.784138Z",
     "shell.execute_reply": "2022-04-23T23:03:01.783408Z"
    },
    "papermill": {
     "duration": 0.043901,
     "end_time": "2022-04-23T23:03:01.786080",
     "exception": false,
     "start_time": "2022-04-23T23:03:01.742179",
     "status": "completed"
    },
    "tags": []
   },
   "outputs": [
    {
     "data": {
      "text/plain": [
       "array(['#1 VERJUS CAVE, #2 VERJUS', '111 Minna Gallery',\n",
       "       '12 Tribes Kosher Foods', '1428 Haight', '15 Romolo',\n",
       "       '1601 Bar & Kitchen', '1608 Bistro', '1760', '17th & Noe Market',\n",
       "       '18 Reasons', '18th Street Commissary', '19TH AVE CHEVRON',\n",
       "       '19th Ave Shell', '20 Spot Mission, LLC', '20th Century Cafe',\n",
       "       '21 Taste House', '21ST AMENDMENT BREWERY CAFE',\n",
       "       '2227 Irving Seafood Market Inc', '23RD & GUERRERO LIQUOR STORE',\n",
       "       '24 HR CONVENIENCE MKT', '24TH STREET CHEESE COMPANY',\n",
       "       '24th and Folsom Eatery', '25TH IRVING MARKET',\n",
       "       '260 Golden Gate Family Residence'], dtype=object)"
      ]
     },
     "execution_count": 15,
     "metadata": {},
     "output_type": "execute_result"
    }
   ],
   "source": [
    "le.inverse_transform([i for i in range(0, 24)])"
   ]
  },
  {
   "cell_type": "markdown",
   "id": "8b6d1a16",
   "metadata": {
    "papermill": {
     "duration": 0.033977,
     "end_time": "2022-04-23T23:03:01.853556",
     "exception": false,
     "start_time": "2022-04-23T23:03:01.819579",
     "status": "completed"
    },
    "tags": []
   },
   "source": [
    "Для преобразования колонки 'risk_category' воспользуемся методом one hot encoding:"
   ]
  },
  {
   "cell_type": "code",
   "execution_count": 16,
   "id": "09794e54",
   "metadata": {
    "execution": {
     "iopub.execute_input": "2022-04-23T23:03:01.922780Z",
     "iopub.status.busy": "2022-04-23T23:03:01.922278Z",
     "iopub.status.idle": "2022-04-23T23:03:01.934408Z",
     "shell.execute_reply": "2022-04-23T23:03:01.933747Z"
    },
    "papermill": {
     "duration": 0.0489,
     "end_time": "2022-04-23T23:03:01.936252",
     "exception": false,
     "start_time": "2022-04-23T23:03:01.887352",
     "status": "completed"
    },
    "tags": []
   },
   "outputs": [
    {
     "data": {
      "text/plain": [
       "array([nan, 'Moderate Risk', 'High Risk', 'Low Risk'], dtype=object)"
      ]
     },
     "execution_count": 16,
     "metadata": {},
     "output_type": "execute_result"
    }
   ],
   "source": [
    "cat_data = data[['risk_category']]\n",
    "cat_data['risk_category'].unique()"
   ]
  },
  {
   "cell_type": "code",
   "execution_count": 17,
   "id": "581fd99b",
   "metadata": {
    "execution": {
     "iopub.execute_input": "2022-04-23T23:03:02.005753Z",
     "iopub.status.busy": "2022-04-23T23:03:02.005226Z",
     "iopub.status.idle": "2022-04-23T23:03:02.023730Z",
     "shell.execute_reply": "2022-04-23T23:03:02.023168Z"
    },
    "papermill": {
     "duration": 0.055597,
     "end_time": "2022-04-23T23:03:02.025532",
     "exception": false,
     "start_time": "2022-04-23T23:03:01.969935",
     "status": "completed"
    },
    "tags": []
   },
   "outputs": [
    {
     "data": {
      "text/plain": [
       "array([['Low Risk'],\n",
       "       ['Moderate Risk'],\n",
       "       ['Low Risk'],\n",
       "       ...,\n",
       "       ['Moderate Risk'],\n",
       "       ['Moderate Risk'],\n",
       "       ['Low Risk']], dtype=object)"
      ]
     },
     "execution_count": 17,
     "metadata": {},
     "output_type": "execute_result"
    }
   ],
   "source": [
    "imp = SimpleImputer(missing_values = np.nan, strategy = 'most_frequent')\n",
    "data_imp = imp.fit_transform(cat_data)\n",
    "data_imp"
   ]
  },
  {
   "cell_type": "code",
   "execution_count": 18,
   "id": "03c48125",
   "metadata": {
    "execution": {
     "iopub.execute_input": "2022-04-23T23:03:02.096147Z",
     "iopub.status.busy": "2022-04-23T23:03:02.095620Z",
     "iopub.status.idle": "2022-04-23T23:03:02.106380Z",
     "shell.execute_reply": "2022-04-23T23:03:02.105811Z"
    },
    "papermill": {
     "duration": 0.047977,
     "end_time": "2022-04-23T23:03:02.108010",
     "exception": false,
     "start_time": "2022-04-23T23:03:02.060033",
     "status": "completed"
    },
    "tags": []
   },
   "outputs": [
    {
     "data": {
      "text/html": [
       "<div>\n",
       "<style scoped>\n",
       "    .dataframe tbody tr th:only-of-type {\n",
       "        vertical-align: middle;\n",
       "    }\n",
       "\n",
       "    .dataframe tbody tr th {\n",
       "        vertical-align: top;\n",
       "    }\n",
       "\n",
       "    .dataframe thead th {\n",
       "        text-align: right;\n",
       "    }\n",
       "</style>\n",
       "<table border=\"1\" class=\"dataframe\">\n",
       "  <thead>\n",
       "    <tr style=\"text-align: right;\">\n",
       "      <th></th>\n",
       "      <th>nrisk_category</th>\n",
       "    </tr>\n",
       "  </thead>\n",
       "  <tbody>\n",
       "    <tr>\n",
       "      <th>0</th>\n",
       "      <td>Low Risk</td>\n",
       "    </tr>\n",
       "    <tr>\n",
       "      <th>1</th>\n",
       "      <td>Moderate Risk</td>\n",
       "    </tr>\n",
       "    <tr>\n",
       "      <th>2</th>\n",
       "      <td>Low Risk</td>\n",
       "    </tr>\n",
       "    <tr>\n",
       "      <th>3</th>\n",
       "      <td>Low Risk</td>\n",
       "    </tr>\n",
       "    <tr>\n",
       "      <th>4</th>\n",
       "      <td>High Risk</td>\n",
       "    </tr>\n",
       "    <tr>\n",
       "      <th>...</th>\n",
       "      <td>...</td>\n",
       "    </tr>\n",
       "    <tr>\n",
       "      <th>53968</th>\n",
       "      <td>Moderate Risk</td>\n",
       "    </tr>\n",
       "    <tr>\n",
       "      <th>53969</th>\n",
       "      <td>Low Risk</td>\n",
       "    </tr>\n",
       "    <tr>\n",
       "      <th>53970</th>\n",
       "      <td>Moderate Risk</td>\n",
       "    </tr>\n",
       "    <tr>\n",
       "      <th>53971</th>\n",
       "      <td>Moderate Risk</td>\n",
       "    </tr>\n",
       "    <tr>\n",
       "      <th>53972</th>\n",
       "      <td>Low Risk</td>\n",
       "    </tr>\n",
       "  </tbody>\n",
       "</table>\n",
       "<p>53973 rows × 1 columns</p>\n",
       "</div>"
      ],
      "text/plain": [
       "      nrisk_category\n",
       "0           Low Risk\n",
       "1      Moderate Risk\n",
       "2           Low Risk\n",
       "3           Low Risk\n",
       "4          High Risk\n",
       "...              ...\n",
       "53968  Moderate Risk\n",
       "53969       Low Risk\n",
       "53970  Moderate Risk\n",
       "53971  Moderate Risk\n",
       "53972       Low Risk\n",
       "\n",
       "[53973 rows x 1 columns]"
      ]
     },
     "execution_count": 18,
     "metadata": {},
     "output_type": "execute_result"
    }
   ],
   "source": [
    "cat_enc = pd.DataFrame({'nrisk_category':data_imp.T[0]})\n",
    "cat_enc"
   ]
  },
  {
   "cell_type": "code",
   "execution_count": 19,
   "id": "a4658298",
   "metadata": {
    "execution": {
     "iopub.execute_input": "2022-04-23T23:03:02.179063Z",
     "iopub.status.busy": "2022-04-23T23:03:02.178553Z",
     "iopub.status.idle": "2022-04-23T23:03:02.196228Z",
     "shell.execute_reply": "2022-04-23T23:03:02.195596Z"
    },
    "papermill": {
     "duration": 0.05554,
     "end_time": "2022-04-23T23:03:02.198071",
     "exception": false,
     "start_time": "2022-04-23T23:03:02.142531",
     "status": "completed"
    },
    "tags": []
   },
   "outputs": [
    {
     "data": {
      "text/html": [
       "<div>\n",
       "<style scoped>\n",
       "    .dataframe tbody tr th:only-of-type {\n",
       "        vertical-align: middle;\n",
       "    }\n",
       "\n",
       "    .dataframe tbody tr th {\n",
       "        vertical-align: top;\n",
       "    }\n",
       "\n",
       "    .dataframe thead th {\n",
       "        text-align: right;\n",
       "    }\n",
       "</style>\n",
       "<table border=\"1\" class=\"dataframe\">\n",
       "  <thead>\n",
       "    <tr style=\"text-align: right;\">\n",
       "      <th></th>\n",
       "      <th>nrisk_category_High Risk</th>\n",
       "      <th>nrisk_category_Low Risk</th>\n",
       "      <th>nrisk_category_Moderate Risk</th>\n",
       "    </tr>\n",
       "  </thead>\n",
       "  <tbody>\n",
       "    <tr>\n",
       "      <th>0</th>\n",
       "      <td>0</td>\n",
       "      <td>1</td>\n",
       "      <td>0</td>\n",
       "    </tr>\n",
       "    <tr>\n",
       "      <th>1</th>\n",
       "      <td>0</td>\n",
       "      <td>0</td>\n",
       "      <td>1</td>\n",
       "    </tr>\n",
       "    <tr>\n",
       "      <th>2</th>\n",
       "      <td>0</td>\n",
       "      <td>1</td>\n",
       "      <td>0</td>\n",
       "    </tr>\n",
       "    <tr>\n",
       "      <th>3</th>\n",
       "      <td>0</td>\n",
       "      <td>1</td>\n",
       "      <td>0</td>\n",
       "    </tr>\n",
       "    <tr>\n",
       "      <th>4</th>\n",
       "      <td>1</td>\n",
       "      <td>0</td>\n",
       "      <td>0</td>\n",
       "    </tr>\n",
       "  </tbody>\n",
       "</table>\n",
       "</div>"
      ],
      "text/plain": [
       "   nrisk_category_High Risk  nrisk_category_Low Risk  \\\n",
       "0                         0                        1   \n",
       "1                         0                        0   \n",
       "2                         0                        1   \n",
       "3                         0                        1   \n",
       "4                         1                        0   \n",
       "\n",
       "   nrisk_category_Moderate Risk  \n",
       "0                             0  \n",
       "1                             1  \n",
       "2                             0  \n",
       "3                             0  \n",
       "4                             0  "
      ]
     },
     "execution_count": 19,
     "metadata": {},
     "output_type": "execute_result"
    }
   ],
   "source": [
    "pd.get_dummies(cat_enc).head()"
   ]
  },
  {
   "cell_type": "code",
   "execution_count": 20,
   "id": "e89b55f9",
   "metadata": {
    "execution": {
     "iopub.execute_input": "2022-04-23T23:03:02.270221Z",
     "iopub.status.busy": "2022-04-23T23:03:02.269714Z",
     "iopub.status.idle": "2022-04-23T23:03:02.296541Z",
     "shell.execute_reply": "2022-04-23T23:03:02.295982Z"
    },
    "papermill": {
     "duration": 0.065247,
     "end_time": "2022-04-23T23:03:02.298266",
     "exception": false,
     "start_time": "2022-04-23T23:03:02.233019",
     "status": "completed"
    },
    "tags": []
   },
   "outputs": [
    {
     "data": {
      "text/plain": [
       "<53973x3 sparse matrix of type '<class 'numpy.float64'>'\n",
       "\twith 53973 stored elements in Compressed Sparse Row format>"
      ]
     },
     "execution_count": 20,
     "metadata": {},
     "output_type": "execute_result"
    }
   ],
   "source": [
    "ohe = OneHotEncoder()\n",
    "cat_enc_ohe = ohe.fit_transform(cat_enc[['nrisk_category']])\n",
    "cat_enc_ohe"
   ]
  },
  {
   "cell_type": "code",
   "execution_count": 21,
   "id": "49b95954",
   "metadata": {
    "execution": {
     "iopub.execute_input": "2022-04-23T23:03:02.371070Z",
     "iopub.status.busy": "2022-04-23T23:03:02.370781Z",
     "iopub.status.idle": "2022-04-23T23:03:02.376816Z",
     "shell.execute_reply": "2022-04-23T23:03:02.376258Z"
    },
    "papermill": {
     "duration": 0.044784,
     "end_time": "2022-04-23T23:03:02.378582",
     "exception": false,
     "start_time": "2022-04-23T23:03:02.333798",
     "status": "completed"
    },
    "tags": []
   },
   "outputs": [
    {
     "data": {
      "text/plain": [
       "matrix([[0., 1., 0.],\n",
       "        [0., 1., 0.],\n",
       "        [0., 1., 0.],\n",
       "        [0., 0., 1.],\n",
       "        [0., 1., 0.],\n",
       "        [0., 0., 1.],\n",
       "        [0., 1., 0.],\n",
       "        [0., 1., 0.],\n",
       "        [0., 1., 0.],\n",
       "        [0., 1., 0.]])"
      ]
     },
     "execution_count": 21,
     "metadata": {},
     "output_type": "execute_result"
    }
   ],
   "source": [
    "cat_enc_ohe.todense()[100:110]"
   ]
  },
  {
   "cell_type": "markdown",
   "id": "61349d92",
   "metadata": {
    "papermill": {
     "duration": 0.035705,
     "end_time": "2022-04-23T23:03:02.450613",
     "exception": false,
     "start_time": "2022-04-23T23:03:02.414908",
     "status": "completed"
    },
    "tags": []
   },
   "source": [
    "Построим график Jointplot\n",
    "График будем строить для колонок 'business_name' (Название бизнеса) и 'risk_category' (Категория риска)\n"
   ]
  },
  {
   "cell_type": "code",
   "execution_count": 22,
   "id": "b74138b2",
   "metadata": {
    "execution": {
     "iopub.execute_input": "2022-04-23T23:03:02.524801Z",
     "iopub.status.busy": "2022-04-23T23:03:02.524304Z",
     "iopub.status.idle": "2022-04-23T23:03:03.588804Z",
     "shell.execute_reply": "2022-04-23T23:03:03.587882Z"
    },
    "papermill": {
     "duration": 1.104357,
     "end_time": "2022-04-23T23:03:03.591276",
     "exception": false,
     "start_time": "2022-04-23T23:03:02.486919",
     "status": "completed"
    },
    "tags": []
   },
   "outputs": [
    {
     "data": {
      "text/plain": [
       "<seaborn.axisgrid.JointGrid at 0x7fd0992098d0>"
      ]
     },
     "execution_count": 22,
     "metadata": {},
     "output_type": "execute_result"
    },
    {
     "data": {
      "image/png": "[encoded data removed]",
      "text/plain": [
       "<Figure size 720x720 with 3 Axes>"
      ]
     },
     "metadata": {
      "needs_background": "light"
     },
     "output_type": "display_data"
    }
   ],
   "source": [
    "import seaborn as sns\n",
    "sns.jointplot(x = 'inspection_type', height = 10, y = 'risk_category', data = data)"
   ]
  },
  {
   "cell_type": "code",
   "execution_count": null,
   "id": "5f3acad9",
   "metadata": {
    "papermill": {
     "duration": 0.038593,
     "end_time": "2022-04-23T23:03:03.667493",
     "exception": false,
     "start_time": "2022-04-23T23:03:03.628900",
     "status": "completed"
    },
    "tags": []
   },
   "outputs": [],
   "source": []
  }
 ],
 "metadata": {
  "kernelspec": {
   "display_name": "Python 3",
   "language": "python",
   "name": "python3"
  },
  "language_info": {
   "codemirror_mode": {
    "name": "ipython",
    "version": 3
   },
   "file_extension": ".py",
   "mimetype": "text/x-python",
   "name": "python",
   "nbconvert_exporter": "python",
   "pygments_lexer": "ipython3",
   "version": "3.7.12"
  },
  "papermill": {
   "default_parameters": {},
   "duration": 15.605062,
   "end_time": "2022-04-23T23:03:04.425990",
   "environment_variables": {},
   "exception": null,
   "input_path": "__notebook__.ipynb",
   "output_path": "__notebook__.ipynb",
   "parameters": {},
   "start_time": "2022-04-23T23:02:48.820928",
   "version": "2.3.4"
  }
 },
 "nbformat": 4,
 "nbformat_minor": 5
}
